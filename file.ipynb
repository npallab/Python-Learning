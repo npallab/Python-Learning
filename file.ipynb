{
 "cells": [
  {
   "cell_type": "code",
   "execution_count": 88,
   "id": "ceb246ae-7f9b-4d9b-b219-3985a72a7973",
   "metadata": {},
   "outputs": [],
   "source": [
    "f=open('test.txt','w')"
   ]
  },
  {
   "cell_type": "code",
   "execution_count": 89,
   "id": "69812d1b-c041-40b5-a28c-deb0ecda9756",
   "metadata": {},
   "outputs": [
    {
     "data": {
      "text/plain": [
       "52"
      ]
     },
     "execution_count": 89,
     "metadata": {},
     "output_type": "execute_result"
    }
   ],
   "source": [
    "f.write('Hi Evryone \\n We are Learning file I/O \\n using Python')"
   ]
  },
  {
   "cell_type": "code",
   "execution_count": 90,
   "id": "55aae1a1-7b15-4503-8b3f-208b9dad8598",
   "metadata": {},
   "outputs": [],
   "source": [
    "f.close()"
   ]
  },
  {
   "cell_type": "code",
   "execution_count": null,
   "id": "ca85ed4e-d467-4c99-ab48-a1757254f58d",
   "metadata": {},
   "outputs": [],
   "source": []
  },
  {
   "cell_type": "code",
   "execution_count": 91,
   "id": "bebe1c0c-a9a1-463a-88a4-0b8e201c08bc",
   "metadata": {},
   "outputs": [],
   "source": [
    "def replace_fn(file):\n",
    "    f=open(file,'r')\n",
    "    str=f.read()\n",
    "    f.close()\n",
    "    str=str.replace('Python','java')\n",
    "    f=open(file,'w')\n",
    "    f.write(repr(str))\n",
    "    f.close()"
   ]
  },
  {
   "cell_type": "code",
   "execution_count": 92,
   "id": "aa0d9cf9-4d2a-44bd-968b-2d10c1770247",
   "metadata": {},
   "outputs": [],
   "source": [
    "replace_fn('test.txt')"
   ]
  },
  {
   "cell_type": "code",
   "execution_count": null,
   "id": "9651ee64-3a99-498a-b3b5-a97af740a683",
   "metadata": {},
   "outputs": [],
   "source": []
  },
  {
   "cell_type": "code",
   "execution_count": 84,
   "id": "bbd38e91-9077-45b4-a92e-793c4712e2af",
   "metadata": {},
   "outputs": [],
   "source": [
    "l=open('practice.txt','r')"
   ]
  },
  {
   "cell_type": "code",
   "execution_count": 85,
   "id": "d6495ce7-6f52-4cb6-9547-5d8167d15f58",
   "metadata": {},
   "outputs": [],
   "source": [
    "str=l.read()"
   ]
  },
  {
   "cell_type": "code",
   "execution_count": 86,
   "id": "da95b0f1-b8b4-4ab7-bb09-11356df4afb9",
   "metadata": {},
   "outputs": [
    {
     "data": {
      "text/plain": [
       "\"''\""
      ]
     },
     "execution_count": 86,
     "metadata": {},
     "output_type": "execute_result"
    }
   ],
   "source": [
    "str"
   ]
  },
  {
   "cell_type": "code",
   "execution_count": 87,
   "id": "be54d281-a721-452b-a266-be6b9634d969",
   "metadata": {},
   "outputs": [],
   "source": [
    "os.remove('practice.txt')"
   ]
  },
  {
   "cell_type": "code",
   "execution_count": null,
   "id": "6cb285ef-e540-4438-96af-cfa7950f8bf2",
   "metadata": {},
   "outputs": [],
   "source": []
  }
 ],
 "metadata": {
  "kernelspec": {
   "display_name": "Python 3 (ipykernel)",
   "language": "python",
   "name": "python3"
  },
  "language_info": {
   "codemirror_mode": {
    "name": "ipython",
    "version": 3
   },
   "file_extension": ".py",
   "mimetype": "text/x-python",
   "name": "python",
   "nbconvert_exporter": "python",
   "pygments_lexer": "ipython3",
   "version": "3.10.8"
  }
 },
 "nbformat": 4,
 "nbformat_minor": 5
}
