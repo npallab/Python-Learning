{
 "cells": [
  {
   "cell_type": "code",
   "execution_count": 1,
   "id": "0de76e7b-5d25-4b24-828a-d09ac98f0ee4",
   "metadata": {},
   "outputs": [],
   "source": [
    "import numpy as np"
   ]
  },
  {
   "cell_type": "code",
   "execution_count": 2,
   "id": "5a93d37c-a02d-4107-b247-55c6cd6689b8",
   "metadata": {},
   "outputs": [],
   "source": [
    "##Create a numpy array \n",
    "a=np.array([(1,2,3),(2,3,4)])"
   ]
  },
  {
   "cell_type": "code",
   "execution_count": 3,
   "id": "be331013-b104-466f-993c-bbc6ff5243bc",
   "metadata": {},
   "outputs": [
    {
     "data": {
      "text/plain": [
       "6"
      ]
     },
     "execution_count": 3,
     "metadata": {},
     "output_type": "execute_result"
    }
   ],
   "source": [
    "a.size"
   ]
  },
  {
   "cell_type": "code",
   "execution_count": 4,
   "id": "af4aa317-0d53-48f4-9bc6-3e9996b9b53f",
   "metadata": {},
   "outputs": [
    {
     "data": {
      "text/plain": [
       "(2, 3)"
      ]
     },
     "execution_count": 4,
     "metadata": {},
     "output_type": "execute_result"
    }
   ],
   "source": [
    "a.shape"
   ]
  },
  {
   "cell_type": "code",
   "execution_count": 6,
   "id": "c16f45a1-bde6-42e1-8ada-dbb578b6edfd",
   "metadata": {},
   "outputs": [
    {
     "data": {
      "text/plain": [
       "15"
      ]
     },
     "execution_count": 6,
     "metadata": {},
     "output_type": "execute_result"
    }
   ],
   "source": [
    "a.sum()"
   ]
  },
  {
   "cell_type": "code",
   "execution_count": 7,
   "id": "73835bef-03c5-4640-9112-a6e254166b40",
   "metadata": {},
   "outputs": [],
   "source": [
    "## Create a array of Zeros \n",
    "\n",
    "b=np.zeros((2,5))"
   ]
  },
  {
   "cell_type": "code",
   "execution_count": 8,
   "id": "518514a0-ad6f-4804-9e1a-52d309a4f7f6",
   "metadata": {},
   "outputs": [
    {
     "data": {
      "text/plain": [
       "array([[0., 0., 0., 0., 0.],\n",
       "       [0., 0., 0., 0., 0.]])"
      ]
     },
     "execution_count": 8,
     "metadata": {},
     "output_type": "execute_result"
    }
   ],
   "source": [
    "b"
   ]
  },
  {
   "cell_type": "code",
   "execution_count": 9,
   "id": "8850b7da-adbf-4d88-b596-2780cbb59324",
   "metadata": {},
   "outputs": [],
   "source": [
    "##Create an array of 1s\n",
    "\n",
    "c=np.ones((2,4))"
   ]
  },
  {
   "cell_type": "code",
   "execution_count": 10,
   "id": "056105fd-688d-4432-a226-4afbbda1696d",
   "metadata": {},
   "outputs": [
    {
     "data": {
      "text/plain": [
       "array([[1., 1., 1., 1.],\n",
       "       [1., 1., 1., 1.]])"
      ]
     },
     "execution_count": 10,
     "metadata": {},
     "output_type": "execute_result"
    }
   ],
   "source": [
    "c"
   ]
  },
  {
   "cell_type": "code",
   "execution_count": 11,
   "id": "0bae3016-0c98-4925-b798-b57659adee93",
   "metadata": {},
   "outputs": [],
   "source": [
    "##Create an identity matric\n",
    "d=np.eye(2,5)"
   ]
  },
  {
   "cell_type": "code",
   "execution_count": 12,
   "id": "a02d97d1-0f69-413a-8c47-60487985dc1f",
   "metadata": {},
   "outputs": [
    {
     "data": {
      "text/plain": [
       "array([[1., 0., 0., 0., 0.],\n",
       "       [0., 1., 0., 0., 0.]])"
      ]
     },
     "execution_count": 12,
     "metadata": {},
     "output_type": "execute_result"
    }
   ],
   "source": [
    "d"
   ]
  },
  {
   "cell_type": "code",
   "execution_count": 14,
   "id": "8ddcc757-9c97-4fd8-913c-aed1b8b81a4a",
   "metadata": {},
   "outputs": [],
   "source": [
    "##Create a random array\n",
    "e=np.random.random((2,5))"
   ]
  },
  {
   "cell_type": "code",
   "execution_count": 15,
   "id": "f1cf69d8-aea5-410d-92c8-28fefe0469a8",
   "metadata": {},
   "outputs": [
    {
     "data": {
      "text/plain": [
       "array([[0.00617272, 0.91323236, 0.59853027, 0.25382049, 0.90951194],\n",
       "       [0.00692004, 0.69277094, 0.22923422, 0.00760023, 0.91881782]])"
      ]
     },
     "execution_count": 15,
     "metadata": {},
     "output_type": "execute_result"
    }
   ],
   "source": [
    "e"
   ]
  },
  {
   "cell_type": "code",
   "execution_count": 16,
   "id": "d2a5629a-ce57-48c4-9f29-cb4541cbed3f",
   "metadata": {},
   "outputs": [],
   "source": [
    "##Create a random integer array\n",
    "f=np.random.randint(10,50,(3,4))"
   ]
  },
  {
   "cell_type": "code",
   "execution_count": 17,
   "id": "db803c8f-3f1c-43d5-a488-1b13fddb9983",
   "metadata": {},
   "outputs": [
    {
     "data": {
      "text/plain": [
       "array([[32, 46, 31, 34],\n",
       "       [12, 34, 14, 33],\n",
       "       [16, 45, 30, 35]])"
      ]
     },
     "execution_count": 17,
     "metadata": {},
     "output_type": "execute_result"
    }
   ],
   "source": [
    "f"
   ]
  },
  {
   "cell_type": "code",
   "execution_count": 18,
   "id": "c2fed2d8-107d-44c5-94f9-72cd829b2a9f",
   "metadata": {},
   "outputs": [],
   "source": [
    "##Create an equidistance array\n",
    "g=np.linspace(10,70,5)"
   ]
  },
  {
   "cell_type": "code",
   "execution_count": 19,
   "id": "582b11ff-dc2a-4b18-9d4f-fad139a049f0",
   "metadata": {},
   "outputs": [
    {
     "data": {
      "text/plain": [
       "array([10., 25., 40., 55., 70.])"
      ]
     },
     "execution_count": 19,
     "metadata": {},
     "output_type": "execute_result"
    }
   ],
   "source": [
    "g"
   ]
  },
  {
   "cell_type": "code",
   "execution_count": 20,
   "id": "729de6cc-a224-4d93-b1ce-735623bca5cc",
   "metadata": {},
   "outputs": [],
   "source": [
    "## Create an array with user defined steps\n",
    "h=np.arange(10,100,5)"
   ]
  },
  {
   "cell_type": "code",
   "execution_count": 21,
   "id": "07432425-e40c-4df5-96df-470463d5174d",
   "metadata": {},
   "outputs": [
    {
     "data": {
      "text/plain": [
       "array([10, 15, 20, 25, 30, 35, 40, 45, 50, 55, 60, 65, 70, 75, 80, 85, 90,\n",
       "       95])"
      ]
     },
     "execution_count": 21,
     "metadata": {},
     "output_type": "execute_result"
    }
   ],
   "source": [
    "h"
   ]
  },
  {
   "cell_type": "code",
   "execution_count": 22,
   "id": "2f506a0b-bf8b-4a9b-adaa-fb452a224a9d",
   "metadata": {},
   "outputs": [],
   "source": [
    "## sum of 2 array"
   ]
  },
  {
   "cell_type": "code",
   "execution_count": 23,
   "id": "3c325922-fd67-40c9-90f5-a033ee4e88b0",
   "metadata": {},
   "outputs": [],
   "source": [
    "x=f=np.random.randint(10,50,(3,4))\n",
    "y=f=np.random.randint(0,50,(3,4))"
   ]
  },
  {
   "cell_type": "code",
   "execution_count": 27,
   "id": "8d093bfb-6d15-48f2-8948-d53b59e3e7e5",
   "metadata": {},
   "outputs": [],
   "source": [
    "sum=x+y"
   ]
  },
  {
   "cell_type": "code",
   "execution_count": 28,
   "id": "ae465cfe-6295-4cf4-a212-a508b9abd834",
   "metadata": {},
   "outputs": [
    {
     "data": {
      "text/plain": [
       "array([[31, 47, 78, 82],\n",
       "       [24, 31, 60, 74],\n",
       "       [71, 53, 20, 79]])"
      ]
     },
     "execution_count": 28,
     "metadata": {},
     "output_type": "execute_result"
    }
   ],
   "source": [
    "sum"
   ]
  },
  {
   "cell_type": "code",
   "execution_count": 29,
   "id": "9a33e3c2-96cb-433e-9f39-d14bafbacb3b",
   "metadata": {},
   "outputs": [
    {
     "data": {
      "text/plain": [
       "30.916666666666668"
      ]
     },
     "execution_count": 29,
     "metadata": {},
     "output_type": "execute_result"
    }
   ],
   "source": [
    "#mean\n",
    "x.mean()"
   ]
  },
  {
   "cell_type": "code",
   "execution_count": 30,
   "id": "a6a3b0ce-36dc-4ac1-85c9-01b9ea2a9a5f",
   "metadata": {},
   "outputs": [
    {
     "data": {
      "text/plain": [
       "23.25"
      ]
     },
     "execution_count": 30,
     "metadata": {},
     "output_type": "execute_result"
    }
   ],
   "source": [
    "y.mean()"
   ]
  },
  {
   "cell_type": "code",
   "execution_count": 32,
   "id": "e5b313b0-d49f-4558-8718-476f577bf60e",
   "metadata": {},
   "outputs": [
    {
     "data": {
      "text/plain": [
       "49"
      ]
     },
     "execution_count": 32,
     "metadata": {},
     "output_type": "execute_result"
    }
   ],
   "source": [
    "#max\n",
    "x.max()"
   ]
  },
  {
   "cell_type": "code",
   "execution_count": 33,
   "id": "d24a3aec-33c4-4701-a1ca-f931f5591d56",
   "metadata": {},
   "outputs": [
    {
     "data": {
      "text/plain": [
       "12"
      ]
     },
     "execution_count": 33,
     "metadata": {},
     "output_type": "execute_result"
    }
   ],
   "source": [
    "#Min\n",
    "x.min()"
   ]
  },
  {
   "cell_type": "code",
   "execution_count": null,
   "id": "3f1aa667-6c76-455f-8a10-7de9ed37c0e6",
   "metadata": {},
   "outputs": [],
   "source": []
  }
 ],
 "metadata": {
  "kernelspec": {
   "display_name": "Python 3 (ipykernel)",
   "language": "python",
   "name": "python3"
  },
  "language_info": {
   "codemirror_mode": {
    "name": "ipython",
    "version": 3
   },
   "file_extension": ".py",
   "mimetype": "text/x-python",
   "name": "python",
   "nbconvert_exporter": "python",
   "pygments_lexer": "ipython3",
   "version": "3.10.8"
  }
 },
 "nbformat": 4,
 "nbformat_minor": 5
}
