{
 "cells": [
  {
   "cell_type": "code",
   "execution_count": 13,
   "id": "3574a520-b322-4ac8-927a-e2c02c29486d",
   "metadata": {},
   "outputs": [
    {
     "name": "stdout",
     "output_type": "stream",
     "text": [
      "Collecting pymysql\n",
      "  Downloading PyMySQL-1.1.1-py3-none-any.whl (44 kB)\n",
      "\u001b[2K     \u001b[90m━━━━━━━━━━━━━━━━━━━━━━━━━━━━━━━━━━━━━━━━\u001b[0m \u001b[32m45.0/45.0 kB\u001b[0m \u001b[31m2.1 MB/s\u001b[0m eta \u001b[36m0:00:00\u001b[0m\n",
      "\u001b[?25hInstalling collected packages: pymysql\n",
      "Successfully installed pymysql-1.1.1\n",
      "Note: you may need to restart the kernel to use updated packages.\n"
     ]
    }
   ],
   "source": [
    "pip install pymysql "
   ]
  },
  {
   "cell_type": "code",
   "execution_count": 15,
   "id": "71c502a5-fdbb-4e5a-9249-bdaa6213172e",
   "metadata": {},
   "outputs": [
    {
     "name": "stdout",
     "output_type": "stream",
     "text": [
      "Requirement already satisfied: cryptography in /opt/conda/lib/python3.10/site-packages (38.0.4)\n",
      "Requirement already satisfied: cffi>=1.12 in /opt/conda/lib/python3.10/site-packages (from cryptography) (1.15.1)\n",
      "Requirement already satisfied: pycparser in /opt/conda/lib/python3.10/site-packages (from cffi>=1.12->cryptography) (2.21)\n",
      "Note: you may need to restart the kernel to use updated packages.\n"
     ]
    }
   ],
   "source": [
    "pip install cryptography"
   ]
  },
  {
   "cell_type": "code",
   "execution_count": 32,
   "id": "9e48a779-8fa6-4308-9d2e-ca29d083b152",
   "metadata": {},
   "outputs": [],
   "source": [
    "import pymysql\n",
    "\n",
    "timeout = 10\n",
    "connection = pymysql.connect(\n",
    "  charset=\"utf8mb4\",\n",
    "  connect_timeout=timeout,\n",
    "  cursorclass=pymysql.cursors.DictCursor,\n",
    "  db=\"CALL_CENTER\",\n",
    "  host=\"pallabmain-mail-e619.h.aivencloud.com\",\n",
    "  password=\"AVNS_ypF9CTOUvZM9R5lvIk_\",\n",
    "  read_timeout=timeout,\n",
    "  port=24065,\n",
    "  user=\"avnadmin\",\n",
    "  write_timeout=timeout,\n",
    ")\n",
    "  \n"
   ]
  },
  {
   "cell_type": "code",
   "execution_count": 33,
   "id": "84fed97e-0052-4bdc-a092-ec6622c95522",
   "metadata": {},
   "outputs": [],
   "source": [
    "cursor = connection.cursor()\n"
   ]
  },
  {
   "cell_type": "code",
   "execution_count": 34,
   "id": "922b6907-ca26-4a8e-a9ab-2103909519f8",
   "metadata": {},
   "outputs": [
    {
     "name": "stdout",
     "output_type": "stream",
     "text": [
      "[{'Manager_Name': 'Aung Aye', 'Manager_ID': 3151245, 'Team_Span': 2, 'SKILL': 'Call_Int', 'AHT': Decimal('40.00'), 'AHT_target': Decimal('8.20')}, {'Manager_Name': 'Aung Aye', 'Manager_ID': 3151245, 'Team_Span': 4, 'SKILL': 'Chat_Dom', 'AHT': Decimal('26.25'), 'AHT_target': Decimal('4.20')}, {'Manager_Name': 'Aung Aye', 'Manager_ID': 3151245, 'Team_Span': 1, 'SKILL': 'Chat_Int', 'AHT': Decimal('25.00'), 'AHT_target': Decimal('8.20')}, {'Manager_Name': 'Aung Aye', 'Manager_ID': 3151245, 'Team_Span': 3, 'SKILL': 'Esc', 'AHT': Decimal('48.33'), 'AHT_target': Decimal('8.20')}, {'Manager_Name': 'Binh Nguyen', 'Manager_ID': 4206925, 'Team_Span': 3, 'SKILL': 'Call_Dom', 'AHT': Decimal('30.00'), 'AHT_target': Decimal('3.20')}, {'Manager_Name': 'Binh Nguyen', 'Manager_ID': 4206925, 'Team_Span': 5, 'SKILL': 'Call_Int', 'AHT': Decimal('42.00'), 'AHT_target': Decimal('8.20')}, {'Manager_Name': 'Binh Nguyen', 'Manager_ID': 4206925, 'Team_Span': 2, 'SKILL': 'Chat_Dom', 'AHT': Decimal('25.00'), 'AHT_target': Decimal('4.20')}, {'Manager_Name': 'Binh Nguyen', 'Manager_ID': 4206925, 'Team_Span': 2, 'SKILL': 'Chat_Int', 'AHT': Decimal('37.50'), 'AHT_target': Decimal('8.20')}, {'Manager_Name': 'Binh Nguyen', 'Manager_ID': 4206925, 'Team_Span': 3, 'SKILL': 'Esc', 'AHT': Decimal('55.00'), 'AHT_target': Decimal('8.20')}, {'Manager_Name': 'Eka Putra', 'Manager_ID': 2196340, 'Team_Span': 4, 'SKILL': 'Call_Dom', 'AHT': Decimal('30.00'), 'AHT_target': Decimal('3.20')}, {'Manager_Name': 'Eka Putra', 'Manager_ID': 2196340, 'Team_Span': 1, 'SKILL': 'Chat_Dom', 'AHT': Decimal('30.00'), 'AHT_target': Decimal('4.20')}, {'Manager_Name': 'Eka Putra', 'Manager_ID': 2196340, 'Team_Span': 4, 'SKILL': 'Chat_Int', 'AHT': Decimal('25.00'), 'AHT_target': Decimal('8.20')}, {'Manager_Name': 'Eka Putra', 'Manager_ID': 2196340, 'Team_Span': 1, 'SKILL': 'Esc', 'AHT': Decimal('45.00'), 'AHT_target': Decimal('8.20')}]\n"
     ]
    }
   ],
   "source": [
    "cursor.execute('SELECT * from OPS_AHT_VS_TARGET')\n",
    "print(cursor.fetchall())\n"
   ]
  },
  {
   "cell_type": "code",
   "execution_count": 38,
   "id": "43c80b16-b515-4206-90ad-cebd659d5548",
   "metadata": {},
   "outputs": [],
   "source": [
    "connection.close()"
   ]
  },
  {
   "cell_type": "code",
   "execution_count": 35,
   "id": "c95bc75e-8230-4830-b2fc-3577ef236bbe",
   "metadata": {},
   "outputs": [
    {
     "name": "stdout",
     "output_type": "stream",
     "text": [
      "[]\n"
     ]
    }
   ],
   "source": [
    "\n"
   ]
  },
  {
   "cell_type": "code",
   "execution_count": 37,
   "id": "6d54975b-eca1-47aa-a905-984cb79c3184",
   "metadata": {},
   "outputs": [
    {
     "name": "stdout",
     "output_type": "stream",
     "text": [
      "None\n"
     ]
    }
   ],
   "source": []
  },
  {
   "cell_type": "code",
   "execution_count": 3,
   "id": "c71734c9-0ef1-4e2e-bc78-4099652af12c",
   "metadata": {},
   "outputs": [
    {
     "name": "stdin",
     "output_type": "stream",
     "text": [
      "Enter a string: TEST\n"
     ]
    },
    {
     "name": "stdout",
     "output_type": "stream",
     "text": [
      "Length of the string is : 4\n",
      "String in Upper: TEST\n",
      "String in Lower: test\n"
     ]
    }
   ],
   "source": [
    "#Given a string \"Python is fun!\", write a Python program that:\n",
    "\n",
    "#Prints the length of the string.\n",
    "#Prints the string in uppercase.\n",
    "#Prints the string in lowercase.\n",
    "\n",
    "str=input('Enter a string:')\n",
    "print('Length of the string is :',len(str))\n",
    "print('String in Upper:',str.upper())\n",
    "print('String in Lower:',str.lower())\n"
   ]
  },
  {
   "cell_type": "code",
   "execution_count": 20,
   "id": "91bd7c40-eb48-438f-8f6a-827f8663a1ed",
   "metadata": {},
   "outputs": [
    {
     "name": "stdout",
     "output_type": "stream",
     "text": [
      "[1, 2, 3, 4, 5]\n",
      "6\n",
      "[1, 2, 3, 4, 5]\n"
     ]
    }
   ],
   "source": [
    "##Write a Python program that:\n",
    "\n",
    "#Creates a list containing integers from 1 to 5.\n",
    "#Appends the number 6 to the list.\n",
    "#Prints the length of the list.\n",
    "#Removes the last element from the list.\n",
    "#Prints the modified list.\n",
    "\n",
    "list=[]\n",
    "i=1\n",
    "while i<=5:\n",
    "    list.append(i)\n",
    "    i=i+1\n",
    "print(list)\n",
    "list.append(6)\n",
    "print(len(list))\n",
    "x=len(list)\n",
    "list.pop(x-1)\n",
    "print(list)\n",
    "\n"
   ]
  },
  {
   "cell_type": "code",
   "execution_count": 15,
   "id": "33b07894-a381-47bd-884b-975957c89638",
   "metadata": {},
   "outputs": [
    {
     "data": {
      "text/plain": [
       "2"
      ]
     },
     "execution_count": 15,
     "metadata": {},
     "output_type": "execute_result"
    }
   ],
   "source": [
    "#Inputs a variable number with any integer value.\n",
    "#Checks if the number is positive, negative, or zero using conditional statements (if, elif, else).\n",
    "#Prints the result accordingly."
   ]
  },
  {
   "cell_type": "code",
   "execution_count": 30,
   "id": "bd69cad5-d1c3-4ac4-a6f3-12417cdf2089",
   "metadata": {},
   "outputs": [
    {
     "name": "stdin",
     "output_type": "stream",
     "text": [
      "Enter a Number 43\n"
     ]
    },
    {
     "name": "stdout",
     "output_type": "stream",
     "text": [
      "Positive\n"
     ]
    }
   ],
   "source": [
    "no=input('Enter a Number')\n",
    "no=int(no)\n",
    "if no>0:\n",
    "    print('Positive')\n",
    "if no==0:\n",
    "    print('Zero')\n",
    "if no<0:\n",
    "    print('Negetive')\n",
    "    "
   ]
  },
  {
   "cell_type": "code",
   "execution_count": 36,
   "id": "a7b27379-a805-48cf-8a55-e4c513f299fc",
   "metadata": {},
   "outputs": [
    {
     "name": "stdout",
     "output_type": "stream",
     "text": [
      "apple\n",
      "banana\n",
      "cherry\n"
     ]
    }
   ],
   "source": [
    "#Write a Python program that uses a for loop to iterate over a list of strings [\"apple\", \"banana\", \"cherry\"] and prints each string.\n",
    "\n",
    "list=[\"apple\", \"banana\", \"cherry\"]\n",
    "for i in list:\n",
    "   print(i)\n",
    "    \n",
    "    "
   ]
  },
  {
   "cell_type": "code",
   "execution_count": 37,
   "id": "be2c5309-934a-4a2f-82df-461a362e044d",
   "metadata": {},
   "outputs": [
    {
     "name": "stdout",
     "output_type": "stream",
     "text": [
      "55\n"
     ]
    }
   ],
   "source": [
    "#Write a Python program that calculates and prints the sum of all numbers from 1 to 10 using a for loop\n",
    "\n",
    "list=[1,2,3,4,5,6,7,8,9,10]\n",
    "sum=0\n",
    "for i in list:\n",
    "    sum=sum+i\n",
    "print(sum)\n",
    "    "
   ]
  },
  {
   "cell_type": "code",
   "execution_count": 41,
   "id": "688d013f-8535-4371-bb55-4819b73be7da",
   "metadata": {},
   "outputs": [
    {
     "name": "stdin",
     "output_type": "stream",
     "text": [
      " 6\n"
     ]
    },
    {
     "name": "stdout",
     "output_type": "stream",
     "text": [
      "Even\n"
     ]
    }
   ],
   "source": [
    "#Write a Python program that checks if a given number (e.g., 7) is even or odd using an if statement and prints the result.\n",
    "\n",
    "no=input()\n",
    "no=int(no)\n",
    "if no%2==0:\n",
    "    print('Even')\n",
    "else:\n",
    "    print('Odd')\n"
   ]
  },
  {
   "cell_type": "code",
   "execution_count": 43,
   "id": "8ddcc1ab-6510-4f77-b4a0-2ce7a6beb650",
   "metadata": {},
   "outputs": [
    {
     "name": "stdin",
     "output_type": "stream",
     "text": [
      "Enter a string: Uls Maharaja\n"
     ]
    },
    {
     "name": "stdout",
     "output_type": "stream",
     "text": [
      "4\n"
     ]
    }
   ],
   "source": [
    "#Write a Python program that counts and prints the number of vowels (a, e, i, o, u) in the string \"Hello, World!\".\n",
    "\n",
    "str=input('Enter a string:')\n",
    "count=0\n",
    "for i in str:\n",
    "    if i in 'aeiou':\n",
    "        count=count+1\n",
    "print(count)"
   ]
  },
  {
   "cell_type": "code",
   "execution_count": 46,
   "id": "75f60b1c-674b-4ba7-a92a-535d734df1ff",
   "metadata": {},
   "outputs": [
    {
     "name": "stdout",
     "output_type": "stream",
     "text": [
      "nohtyP\n"
     ]
    }
   ],
   "source": [
    "#Write a Python program that reverses the string \"Python\" and prints the reversed string\n",
    "\n",
    "str='Python'\n",
    "str=str[::-1]\n",
    "print(str)"
   ]
  },
  {
   "cell_type": "code",
   "execution_count": 61,
   "id": "7fea667c-4a8d-43b3-8093-99c0ae73bbb2",
   "metadata": {},
   "outputs": [
    {
     "data": {
      "text/plain": [
       "[5, 4, 3, 2, 1]"
      ]
     },
     "execution_count": 61,
     "metadata": {},
     "output_type": "execute_result"
    }
   ],
   "source": [
    "#Given a list numbers = [1, 2, 3, 4, 5], write a Python program that uses list slicing to print:\n",
    "#The first three elements of the list.\n",
    "#The last two elements of the list.\n",
    "\n",
    "list=[1,2,3,4,5]\n",
    "list[5::-1]"
   ]
  },
  {
   "cell_type": "code",
   "execution_count": 69,
   "id": "8f116603-1542-41ed-be39-100c53db5a00",
   "metadata": {},
   "outputs": [
    {
     "data": {
      "text/plain": [
       "[2, 4]"
      ]
     },
     "execution_count": 69,
     "metadata": {},
     "output_type": "execute_result"
    }
   ],
   "source": []
  },
  {
   "cell_type": "code",
   "execution_count": 1,
   "id": "463e039b-a5c0-42e3-9618-2cf4f3f3edbd",
   "metadata": {},
   "outputs": [
    {
     "data": {
      "text/plain": [
       "3"
      ]
     },
     "execution_count": 1,
     "metadata": {},
     "output_type": "execute_result"
    }
   ],
   "source": [
    "str1='ghtttn'\n",
    "str1.count('t')"
   ]
  },
  {
   "cell_type": "code",
   "execution_count": 1,
   "id": "c0c69778-d04a-4c9f-a5b0-0c41bc5569b5",
   "metadata": {},
   "outputs": [],
   "source": [
    "list=[23,22,22,21]"
   ]
  },
  {
   "cell_type": "code",
   "execution_count": 2,
   "id": "8f89901b-86b5-4dc1-8943-65026b695820",
   "metadata": {},
   "outputs": [
    {
     "data": {
      "text/plain": [
       "[21, 22, 22, 23]"
      ]
     },
     "execution_count": 2,
     "metadata": {},
     "output_type": "execute_result"
    }
   ],
   "source": [
    "list[::-1]"
   ]
  },
  {
   "cell_type": "code",
   "execution_count": 3,
   "id": "1bbddc43-e0c9-4fd3-8694-35eba9a1c7a5",
   "metadata": {},
   "outputs": [
    {
     "data": {
      "text/plain": [
       "[22]"
      ]
     },
     "execution_count": 3,
     "metadata": {},
     "output_type": "execute_result"
    }
   ],
   "source": [
    "list[1:2:3]"
   ]
  },
  {
   "cell_type": "code",
   "execution_count": 10,
   "id": "1daeaf12-ba75-4976-b034-134c963e740c",
   "metadata": {},
   "outputs": [
    {
     "data": {
      "text/plain": [
       "[22, 22, 21]"
      ]
     },
     "execution_count": 10,
     "metadata": {},
     "output_type": "execute_result"
    }
   ],
   "source": [
    "list[1::]"
   ]
  },
  {
   "cell_type": "code",
   "execution_count": 11,
   "id": "38cb7bdc-30e2-46a2-9fc6-918762432190",
   "metadata": {},
   "outputs": [
    {
     "ename": "IndexError",
     "evalue": "list assignment index out of range",
     "output_type": "error",
     "traceback": [
      "\u001b[0;31m---------------------------------------------------------------------------\u001b[0m",
      "\u001b[0;31mIndexError\u001b[0m                                Traceback (most recent call last)",
      "Cell \u001b[0;32mIn[11], line 1\u001b[0m\n\u001b[0;32m----> 1\u001b[0m \u001b[38;5;28;43mlist\u001b[39;49m\u001b[43m[\u001b[49m\u001b[38;5;241;43m4\u001b[39;49m\u001b[43m]\u001b[49m\u001b[38;5;241m=\u001b[39m\u001b[38;5;241m333\u001b[39m\n",
      "\u001b[0;31mIndexError\u001b[0m: list assignment index out of range"
     ]
    }
   ],
   "source": [
    "list[4]=333"
   ]
  },
  {
   "cell_type": "code",
   "execution_count": 12,
   "id": "868418dc-31af-4d32-b42f-58fc0238b18d",
   "metadata": {},
   "outputs": [],
   "source": [
    "list.insert(22,3)"
   ]
  },
  {
   "cell_type": "code",
   "execution_count": 13,
   "id": "a22d9f07-79a0-45ac-8c1d-934a831afa32",
   "metadata": {},
   "outputs": [
    {
     "data": {
      "text/plain": [
       "[23, 22, 22, 21, 3]"
      ]
     },
     "execution_count": 13,
     "metadata": {},
     "output_type": "execute_result"
    }
   ],
   "source": [
    "list"
   ]
  },
  {
   "cell_type": "code",
   "execution_count": 15,
   "id": "bef067cb-56da-4b04-985c-443c1037fcc5",
   "metadata": {},
   "outputs": [],
   "source": [
    "list.append(20)"
   ]
  },
  {
   "cell_type": "code",
   "execution_count": 16,
   "id": "1166307f-78a2-4c30-806c-9b5ef3d9201d",
   "metadata": {},
   "outputs": [
    {
     "data": {
      "text/plain": [
       "[23, 22, 22, 21, 3, 20]"
      ]
     },
     "execution_count": 16,
     "metadata": {},
     "output_type": "execute_result"
    }
   ],
   "source": [
    "list"
   ]
  },
  {
   "cell_type": "code",
   "execution_count": 17,
   "id": "8e4c58a7-fbd0-41ad-9b80-d749e3eae9bb",
   "metadata": {},
   "outputs": [],
   "source": [
    "list.insert(2,4)"
   ]
  },
  {
   "cell_type": "code",
   "execution_count": 18,
   "id": "a939fd68-fa66-4b4d-b395-14b8738b0b47",
   "metadata": {},
   "outputs": [
    {
     "data": {
      "text/plain": [
       "[23, 22, 4, 22, 21, 3, 20]"
      ]
     },
     "execution_count": 18,
     "metadata": {},
     "output_type": "execute_result"
    }
   ],
   "source": [
    "list"
   ]
  },
  {
   "cell_type": "code",
   "execution_count": 20,
   "id": "d303fa14-3bc0-4e66-8d74-7aeed72fc6bb",
   "metadata": {},
   "outputs": [],
   "source": [
    "list.sort()"
   ]
  },
  {
   "cell_type": "code",
   "execution_count": 21,
   "id": "8843edb4-6cc5-4d91-b6f6-dc4885e6ec89",
   "metadata": {},
   "outputs": [
    {
     "data": {
      "text/plain": [
       "[3, 4, 20, 21, 22, 22, 23]"
      ]
     },
     "execution_count": 21,
     "metadata": {},
     "output_type": "execute_result"
    }
   ],
   "source": [
    "list"
   ]
  },
  {
   "cell_type": "code",
   "execution_count": 22,
   "id": "52b1d505-154c-4888-a778-f0bad5cd4753",
   "metadata": {},
   "outputs": [
    {
     "data": {
      "text/plain": [
       "20"
      ]
     },
     "execution_count": 22,
     "metadata": {},
     "output_type": "execute_result"
    }
   ],
   "source": [
    "list.pop(2)"
   ]
  },
  {
   "cell_type": "code",
   "execution_count": 23,
   "id": "c39562b4-6fc7-4fe8-96a3-35cd7dd75955",
   "metadata": {},
   "outputs": [
    {
     "data": {
      "text/plain": [
       "[3, 4, 21, 22, 22, 23]"
      ]
     },
     "execution_count": 23,
     "metadata": {},
     "output_type": "execute_result"
    }
   ],
   "source": [
    "list"
   ]
  },
  {
   "cell_type": "code",
   "execution_count": 25,
   "id": "a481b522-cc1e-4a2f-94ea-3b337b898e4c",
   "metadata": {},
   "outputs": [],
   "source": [
    "list.sort(reverse=True)"
   ]
  },
  {
   "cell_type": "code",
   "execution_count": 26,
   "id": "8cf2ca68-7fbc-4957-b562-cd788b5bc4f8",
   "metadata": {},
   "outputs": [
    {
     "data": {
      "text/plain": [
       "[23, 22, 22, 21, 4, 3]"
      ]
     },
     "execution_count": 26,
     "metadata": {},
     "output_type": "execute_result"
    }
   ],
   "source": [
    "list"
   ]
  },
  {
   "cell_type": "code",
   "execution_count": 28,
   "id": "b47a49aa-9f27-422c-bb5d-3e07623c3160",
   "metadata": {},
   "outputs": [
    {
     "data": {
      "text/plain": [
       "0"
      ]
     },
     "execution_count": 28,
     "metadata": {},
     "output_type": "execute_result"
    }
   ],
   "source": [
    "list.count(2)"
   ]
  },
  {
   "cell_type": "code",
   "execution_count": 29,
   "id": "16208192-a0c4-4ba1-a7fd-fca8b1bddb6a",
   "metadata": {},
   "outputs": [],
   "source": [
    "list.remove(23)"
   ]
  },
  {
   "cell_type": "code",
   "execution_count": 30,
   "id": "2c2cf183-fb5f-4e1a-a88a-81dc7b3f1145",
   "metadata": {},
   "outputs": [
    {
     "data": {
      "text/plain": [
       "[22, 22, 21, 4, 3]"
      ]
     },
     "execution_count": 30,
     "metadata": {},
     "output_type": "execute_result"
    }
   ],
   "source": [
    "list"
   ]
  },
  {
   "cell_type": "code",
   "execution_count": 32,
   "id": "8976f23f-012d-4cd1-8529-76a7c62279ca",
   "metadata": {},
   "outputs": [
    {
     "ename": "AttributeError",
     "evalue": "'int' object has no attribute 'append'",
     "output_type": "error",
     "traceback": [
      "\u001b[0;31m---------------------------------------------------------------------------\u001b[0m",
      "\u001b[0;31mAttributeError\u001b[0m                            Traceback (most recent call last)",
      "Cell \u001b[0;32mIn[32], line 1\u001b[0m\n\u001b[0;32m----> 1\u001b[0m \u001b[38;5;28;43mlist\u001b[39;49m\u001b[43m[\u001b[49m\u001b[38;5;241;43m3\u001b[39;49m\u001b[43m]\u001b[49m\u001b[38;5;241;43m.\u001b[39;49m\u001b[43mappend\u001b[49m(\u001b[38;5;241m23\u001b[39m)\n",
      "\u001b[0;31mAttributeError\u001b[0m: 'int' object has no attribute 'append'"
     ]
    }
   ],
   "source": []
  },
  {
   "cell_type": "code",
   "execution_count": 33,
   "id": "33830608-88d6-44b5-a2b6-9dab9e04f751",
   "metadata": {},
   "outputs": [],
   "source": [
    "\n",
    "list=[1,2,1]"
   ]
  },
  {
   "cell_type": "code",
   "execution_count": 34,
   "id": "78fb4418-47ef-4457-8d8c-bc31e40a5440",
   "metadata": {},
   "outputs": [],
   "source": [
    "list=list[::-1]"
   ]
  },
  {
   "cell_type": "code",
   "execution_count": 35,
   "id": "1d107d16-1795-4014-9085-e3f0629798f6",
   "metadata": {},
   "outputs": [
    {
     "data": {
      "text/plain": [
       "[1, 2, 1]"
      ]
     },
     "execution_count": 35,
     "metadata": {},
     "output_type": "execute_result"
    }
   ],
   "source": [
    "list\n"
   ]
  },
  {
   "cell_type": "code",
   "execution_count": 36,
   "id": "54e58358-5918-4a1d-bc4e-f643f0749f44",
   "metadata": {},
   "outputs": [
    {
     "data": {
      "text/plain": [
       "True"
      ]
     },
     "execution_count": 36,
     "metadata": {},
     "output_type": "execute_result"
    }
   ],
   "source": [
    "list==list[::-1]"
   ]
  },
  {
   "cell_type": "code",
   "execution_count": 37,
   "id": "65fea335-129a-47b3-9119-f5f485e593b9",
   "metadata": {},
   "outputs": [],
   "source": [
    "tup=(1,2,3,4,2,1,)"
   ]
  },
  {
   "cell_type": "code",
   "execution_count": 38,
   "id": "b55fef28-ded2-43c0-b9c6-85a5cbfc3fcb",
   "metadata": {},
   "outputs": [
    {
     "data": {
      "text/plain": [
       "2"
      ]
     },
     "execution_count": 38,
     "metadata": {},
     "output_type": "execute_result"
    }
   ],
   "source": [
    "tup.count(2)"
   ]
  },
  {
   "cell_type": "code",
   "execution_count": null,
   "id": "8861891c-f758-486b-ae76-adc9267cac27",
   "metadata": {},
   "outputs": [],
   "source": []
  }
 ],
 "metadata": {
  "kernelspec": {
   "display_name": "Python 3 (ipykernel)",
   "language": "python",
   "name": "python3"
  },
  "language_info": {
   "codemirror_mode": {
    "name": "ipython",
    "version": 3
   },
   "file_extension": ".py",
   "mimetype": "text/x-python",
   "name": "python",
   "nbconvert_exporter": "python",
   "pygments_lexer": "ipython3",
   "version": "3.10.8"
  }
 },
 "nbformat": 4,
 "nbformat_minor": 5
}
