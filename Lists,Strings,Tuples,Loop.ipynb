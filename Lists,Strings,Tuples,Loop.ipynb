{
 "cells": [
  {
   "cell_type": "code",
   "execution_count": 1,
   "id": "2baa1c9e-d6a6-44a7-b2b1-499e29f10bd6",
   "metadata": {},
   "outputs": [
    {
     "name": "stdin",
     "output_type": "stream",
     "text": [
      "Enter you name Pallab\n"
     ]
    },
    {
     "name": "stdout",
     "output_type": "stream",
     "text": [
      "This is a Python Beginner exercise Pallab\n"
     ]
    }
   ],
   "source": [
    "##Basic Input and Output:\n",
    "\n",
    "##Write a program that takes a user's name as input and prints a personalized greeting.\n",
    "\n",
    "str=input('Enter you name')\n",
    "print('This is a Python Beginner exercise',str)"
   ]
  },
  {
   "cell_type": "code",
   "execution_count": 6,
   "id": "04a848f5-74c2-4325-ba20-748b03751e52",
   "metadata": {},
   "outputs": [
    {
     "name": "stdin",
     "output_type": "stream",
     "text": [
      "Enter the string: Penguin\n"
     ]
    },
    {
     "name": "stdout",
     "output_type": "stream",
     "text": [
      "No of vowerls: 3\n"
     ]
    }
   ],
   "source": [
    "##Write a program that takes a sentence as input and counts the number of vowels in the sentence.\n",
    "\n",
    "str2=input('Enter the string:')\n",
    "counter=0\n",
    "for i in str2:\n",
    "        if i in('aeiou'):\n",
    "            counter+=1\n",
    "print('No of vowels:',counter)"
   ]
  },
  {
   "cell_type": "code",
   "execution_count": 10,
   "id": "931d9546-e897-447d-a11c-7e2293a4e94f",
   "metadata": {},
   "outputs": [
    {
     "name": "stdin",
     "output_type": "stream",
     "text": [
      "Enter a Word Test\n"
     ]
    },
    {
     "name": "stdout",
     "output_type": "stream",
     "text": [
      "tseT\n"
     ]
    }
   ],
   "source": [
    "##Write a program that takes a word as input and prints the word in reverse.\n",
    "\n",
    "word_inp=input('Enter a Word')\n",
    "word_inpt=word_inp[::-1]\n",
    "print(word_inpt)"
   ]
  },
  {
   "cell_type": "code",
   "execution_count": 1,
   "id": "aa4f3c7a-5f38-4e79-b471-bf3f89e2861b",
   "metadata": {},
   "outputs": [],
   "source": [
    "##Write a program that takes a string as input and checks if it's a palindrome."
   ]
  },
  {
   "cell_type": "code",
   "execution_count": 4,
   "id": "0393aa00-376d-4655-9b50-5faaf3c5c295",
   "metadata": {},
   "outputs": [
    {
     "name": "stdin",
     "output_type": "stream",
     "text": [
      "Enter a String: III\n"
     ]
    },
    {
     "name": "stdout",
     "output_type": "stream",
     "text": [
      "Palindrome\n"
     ]
    }
   ],
   "source": [
    "str_chk=input('Enter a String:')\n",
    "if str_chk==str_chk[::-1]:\n",
    "    print('Palindrome')\n",
    "else:\n",
    "    print('Not a palindrome')"
   ]
  },
  {
   "cell_type": "code",
   "execution_count": 7,
   "id": "e60ffae0-4a89-44cc-b4f3-1c175252781a",
   "metadata": {},
   "outputs": [
    {
     "name": "stdout",
     "output_type": "stream",
     "text": [
      "1\n",
      "2\n",
      "3\n",
      "4\n",
      "5\n",
      "6\n",
      "7\n",
      "8\n",
      "9\n",
      "10\n"
     ]
    }
   ],
   "source": [
    "##Write a program that prints the first 10 natural numbers using a for loop.\n",
    "i=[1,2,3,4,5,6,7,8,9,10]\n",
    "for j in i:\n",
    "    print(j)\n"
   ]
  },
  {
   "cell_type": "code",
   "execution_count": 10,
   "id": "b4e3d76e-4be3-4904-b527-3116d098db90",
   "metadata": {},
   "outputs": [
    {
     "name": "stdout",
     "output_type": "stream",
     "text": [
      "1\n",
      "2\n",
      "3\n",
      "4\n",
      "5\n",
      "6\n",
      "7\n",
      "8\n",
      "9\n",
      "10\n"
     ]
    }
   ],
   "source": [
    "##Write a program that uses a while loop to print the numbers from 1 to 10\n",
    "\n",
    "init=1;\n",
    "while init<=10:\n",
    "    print(init)\n",
    "    init+=1"
   ]
  },
  {
   "cell_type": "code",
   "execution_count": 32,
   "id": "84438da2-ec83-4098-ae7f-09a36764c5be",
   "metadata": {},
   "outputs": [
    {
     "name": "stdout",
     "output_type": "stream",
     "text": [
      "\n",
      "\n",
      "1 X 1 = 1\n",
      "1 X 2 = 2\n",
      "1 X 3 = 3\n",
      "1 X 4 = 4\n",
      "1 X 5 = 5\n",
      "1 X 6 = 6\n",
      "1 X 7 = 7\n",
      "1 X 8 = 8\n",
      "1 X 9 = 9\n",
      "1 X 10 = 10\n",
      "\n",
      "\n",
      "2 X 1 = 2\n",
      "2 X 2 = 4\n",
      "2 X 3 = 6\n",
      "2 X 4 = 8\n",
      "2 X 5 = 10\n",
      "2 X 6 = 12\n",
      "2 X 7 = 14\n",
      "2 X 8 = 16\n",
      "2 X 9 = 18\n",
      "2 X 10 = 20\n",
      "\n",
      "\n",
      "3 X 1 = 3\n",
      "3 X 2 = 6\n",
      "3 X 3 = 9\n",
      "3 X 4 = 12\n",
      "3 X 5 = 15\n",
      "3 X 6 = 18\n",
      "3 X 7 = 21\n",
      "3 X 8 = 24\n",
      "3 X 9 = 27\n",
      "3 X 10 = 30\n",
      "\n",
      "\n",
      "4 X 1 = 4\n",
      "4 X 2 = 8\n",
      "4 X 3 = 12\n",
      "4 X 4 = 16\n",
      "4 X 5 = 20\n",
      "4 X 6 = 24\n",
      "4 X 7 = 28\n",
      "4 X 8 = 32\n",
      "4 X 9 = 36\n",
      "4 X 10 = 40\n",
      "\n",
      "\n",
      "5 X 1 = 5\n",
      "5 X 2 = 10\n",
      "5 X 3 = 15\n",
      "5 X 4 = 20\n",
      "5 X 5 = 25\n",
      "5 X 6 = 30\n",
      "5 X 7 = 35\n",
      "5 X 8 = 40\n",
      "5 X 9 = 45\n",
      "5 X 10 = 50\n"
     ]
    }
   ],
   "source": [
    "##Write a program that prints a multiplication table for numbers 1 through 5 using nested loops.\n",
    "begin=1\n",
    "multip=(1,2,3,4,5,6,7,8,9,10)\n",
    "while begin<=5:\n",
    "    print('\\n')\n",
    "    for i in multip:\n",
    "        print(begin,'X',i,'=',begin*i)\n",
    "    begin+=1\n",
    "        \n"
   ]
  },
  {
   "cell_type": "code",
   "execution_count": 36,
   "id": "2eb26995-5195-4d1e-ad0a-498e8bc902ac",
   "metadata": {},
   "outputs": [
    {
     "name": "stdout",
     "output_type": "stream",
     "text": [
      "\n",
      "\n",
      "* \n",
      "\n",
      "* * \n",
      "\n",
      "* * * \n",
      "\n",
      "* * * * \n",
      "\n",
      "* * * * * \n",
      "\n",
      "* * * * * * \n",
      "\n",
      "* * * * * * * \n",
      "\n",
      "* * * * * * * * \n",
      "\n",
      "* * * * * * * * * \n",
      "\n"
     ]
    }
   ],
   "source": [
    "##Write a program that prints a right-angled triangle pattern using asterisks ('*')\n",
    "for i in range(10):\n",
    "    for j in range(i):\n",
    "        print('*',end=' ')\n",
    "    print('\\n')"
   ]
  },
  {
   "cell_type": "code",
   "execution_count": 45,
   "id": "3e5eb1a5-5333-4fcd-b28b-3a03629634bb",
   "metadata": {},
   "outputs": [
    {
     "name": "stdin",
     "output_type": "stream",
     "text": [
      "Enter a value 4\n",
      "Enter Another value (Y/N) y\n",
      "Enter a value 56\n",
      "Enter Another value (Y/N) y\n",
      "Enter a value 6\n",
      "Enter Another value (Y/N) y\n",
      "Enter a value 2\n",
      "Enter Another value (Y/N) y\n",
      "Enter a value 8\n",
      "Enter Another value (Y/N) y\n",
      "Enter a value 1\n",
      "Enter Another value (Y/N) n\n"
     ]
    },
    {
     "name": "stdout",
     "output_type": "stream",
     "text": [
      "Sorted list: ['1', '2', '4', '56', '6', '8']\n"
     ]
    }
   ],
   "source": [
    "##Write a program that takes a list of numbers as input, sorts it in ascending order, and prints the sorted list\n",
    "\n",
    "list=[]\n",
    "i='Y'\n",
    "while i in('Yy'):\n",
    "    x=input('Enter a value')\n",
    "    list.append(x)\n",
    "    i=input('Enter Another value (Y/N)')\n",
    "list.sort()\n",
    "print('Sorted list:',list)\n"
   ]
  },
  {
   "cell_type": "code",
   "execution_count": 77,
   "id": "f04b6fb9-9911-4ea2-9674-63d6a43bbefc",
   "metadata": {},
   "outputs": [
    {
     "name": "stdin",
     "output_type": "stream",
     "text": [
      "Enter a value 4\n",
      "Enter Another value (Y/N) y\n",
      "Enter a value 5\n",
      "Enter Another value (Y/N) y\n",
      "Enter a value 7\n",
      "Enter Another value (Y/N) y\n",
      "Enter a value 6\n",
      "Enter Another value (Y/N) y\n",
      "Enter a value 8\n",
      "Enter Another value (Y/N) y\n",
      "Enter a value 6\n",
      "Enter Another value (Y/N) y\n",
      "Enter a value 5\n",
      "Enter Another value (Y/N) n\n"
     ]
    },
    {
     "name": "stdout",
     "output_type": "stream",
     "text": [
      "[4, 6, 8, 6]\n"
     ]
    }
   ],
   "source": [
    "##Write a program that takes a list of numbers and creates a new list with only the even numbers.\n",
    "list=[]\n",
    "i='Y'\n",
    "while i in('Yy'):\n",
    "    x=input('Enter a value')\n",
    "    list.append(int(x))\n",
    "   \n",
    "    i=input('Enter Another value (Y/N)')\n",
    "\n",
    "new_list=[]\n",
    "for j in list:\n",
    "    if j%2==0:\n",
    "        new_list.append(j)\n",
    "print(new_list)\n",
    "\n",
    "    \n"
   ]
  },
  {
   "cell_type": "code",
   "execution_count": 81,
   "id": "fa60d937-0c55-4006-9bae-6d947594992a",
   "metadata": {},
   "outputs": [
    {
     "name": "stdout",
     "output_type": "stream",
     "text": [
      "1 str 23.45\n"
     ]
    }
   ],
   "source": [
    "##Write a program that takes a tuple with three elements and assigns them to three variables, then prints each variable.\n",
    "tup=(1,'str',23.45)\n",
    "var1=tup[0]\n",
    "var2=tup[1]\n",
    "var3=tup[2]\n",
    "print(var1,var2,var3)"
   ]
  },
  {
   "cell_type": "code",
   "execution_count": 84,
   "id": "6f996fbd-f05e-4708-82eb-311d0cc12bf3",
   "metadata": {},
   "outputs": [
    {
     "name": "stdin",
     "output_type": "stream",
     "text": [
      "Enter a value 5\n",
      "Enter Another value (Y/N) y\n",
      "Enter a value 6\n",
      "Enter Another value (Y/N) y\n",
      "Enter a value 2\n",
      "Enter Another value (Y/N) y\n",
      "Enter a value 3\n",
      "Enter Another value (Y/N) y\n",
      "Enter a value 8\n",
      "Enter Another value (Y/N) y\n",
      "Enter a value 9\n",
      "Enter Another value (Y/N) n\n"
     ]
    },
    {
     "name": "stdout",
     "output_type": "stream",
     "text": [
      "9 2\n"
     ]
    }
   ],
   "source": [
    "##Write a program that takes a list of numbers as input and finds the maximum and minimum values in the list.\n",
    "\n",
    "list=[]\n",
    "i='Y'\n",
    "while i in('Yy'):\n",
    "    x=input('Enter a value')\n",
    "    list.append(int(x))\n",
    "    i=input('Enter Another value (Y/N)')\n",
    "    \n",
    "print(max(list),min(list))"
   ]
  },
  {
   "cell_type": "code",
   "execution_count": 86,
   "id": "33b90292-affa-4cd8-9ca0-40592bb16c83",
   "metadata": {},
   "outputs": [],
   "source": [
    "##Create a dictionary to store the names and ages of five people. Print the dictionary.\n",
    "\n",
    "dict={'Name':['A','B','C'],'Age':['23','34','23']}"
   ]
  },
  {
   "cell_type": "code",
   "execution_count": 89,
   "id": "fed5d406-c2ae-4953-b6d0-6ebfa834ce71",
   "metadata": {},
   "outputs": [
    {
     "data": {
      "text/plain": [
       "{'Name': ['A', 'B', 'C'], 'Age': ['23', '34', '23']}"
      ]
     },
     "execution_count": 89,
     "metadata": {},
     "output_type": "execute_result"
    }
   ],
   "source": [
    "dict"
   ]
  },
  {
   "cell_type": "code",
   "execution_count": 92,
   "id": "49b81515-3c6d-4c8f-9766-78566d1c0504",
   "metadata": {},
   "outputs": [
    {
     "data": {
      "text/plain": [
       "dict_keys(['Name', 'Age'])"
      ]
     },
     "execution_count": 92,
     "metadata": {},
     "output_type": "execute_result"
    }
   ],
   "source": [
    "dict.keys()"
   ]
  },
  {
   "cell_type": "code",
   "execution_count": 93,
   "id": "14cd409a-adf1-4c60-b13c-ac70bd604adc",
   "metadata": {},
   "outputs": [
    {
     "name": "stdin",
     "output_type": "stream",
     "text": [
      "Student Name: Andrew\n"
     ]
    },
    {
     "data": {
      "text/plain": [
       "'23'"
      ]
     },
     "execution_count": 93,
     "metadata": {},
     "output_type": "execute_result"
    }
   ],
   "source": [
    "##Given a dictionary of student names as keys and their scores as values, write a program to print the score of a specific student.\n",
    "\n",
    "Stu_dict={'Andrew':'23','Dave':'12','Jannie':'34'}\n",
    "\n",
    "name=input('Student Name:')\n",
    "Stu_dict.get(name)"
   ]
  },
  {
   "cell_type": "code",
   "execution_count": 98,
   "id": "4ff1d41c-ec82-4280-9d84-29ec5e39eb71",
   "metadata": {},
   "outputs": [],
   "source": [
    "##Add a new key-value pair to an existing dictionary and print the updated dictionary.\n",
    "Stu_dict.update({'Paula':'65'})"
   ]
  },
  {
   "cell_type": "code",
   "execution_count": 99,
   "id": "b1daeaf6-d2a3-4ada-af6a-f8e899168520",
   "metadata": {},
   "outputs": [
    {
     "data": {
      "text/plain": [
       "{'Andrew': '23', 'Dave': '12', 'Jannie': '34', '6': '5', 'Paula': '65'}"
      ]
     },
     "execution_count": 99,
     "metadata": {},
     "output_type": "execute_result"
    }
   ],
   "source": [
    "Stu_dict"
   ]
  },
  {
   "cell_type": "code",
   "execution_count": 101,
   "id": "5988b737-1e1c-45d3-a3ec-60ed03a03db8",
   "metadata": {},
   "outputs": [
    {
     "data": {
      "text/plain": [
       "'65'"
      ]
     },
     "execution_count": 101,
     "metadata": {},
     "output_type": "execute_result"
    }
   ],
   "source": [
    "##Write a program to remove a specific key-value pair from a dictionary\n",
    "\n",
    "Stu_dict.pop('Paula')"
   ]
  },
  {
   "cell_type": "code",
   "execution_count": 102,
   "id": "c1ebecea-7bca-466e-b0e1-2d31543713aa",
   "metadata": {},
   "outputs": [
    {
     "data": {
      "text/plain": [
       "{'Andrew': '23', 'Dave': '12', 'Jannie': '34', '6': '5'}"
      ]
     },
     "execution_count": 102,
     "metadata": {},
     "output_type": "execute_result"
    }
   ],
   "source": [
    "Stu_dict"
   ]
  },
  {
   "cell_type": "code",
   "execution_count": 103,
   "id": "663e1472-1aa3-4509-81f4-bd2e4cb2c753",
   "metadata": {},
   "outputs": [],
   "source": [
    "##Given a dictionary of items and their prices, write a program that prints each item and its price.\n",
    "\n",
    "price_dict={'Item':'23','Item2':'43','Item3':'98'}"
   ]
  },
  {
   "cell_type": "code",
   "execution_count": 105,
   "id": "b5fdbda5-65f9-4301-9730-2ed62a7a7832",
   "metadata": {},
   "outputs": [
    {
     "data": {
      "text/plain": [
       "dict_items([('Item', '23'), ('Item2', '43'), ('Item3', '98')])"
      ]
     },
     "execution_count": 105,
     "metadata": {},
     "output_type": "execute_result"
    }
   ],
   "source": [
    "price_dict.items()"
   ]
  },
  {
   "cell_type": "code",
   "execution_count": 16,
   "id": "22f9ad2a-596f-4842-ac89-a0ade10275dc",
   "metadata": {},
   "outputs": [
    {
     "name": "stdout",
     "output_type": "stream",
     "text": [
      "\n",
      " Sum of all the numbers is : 5050\n"
     ]
    }
   ],
   "source": [
    "##Write a program that calculates the sum of all numbers from 1 to 100 using a for loop.\n",
    "\n",
    "sum=0 ##initializing sum as 0\n",
    "i=0 ## varable to run through the loop\n",
    "while i<=100:\n",
    "    sum=sum+i\n",
    "    i+=1\n",
    "print('\\n Sum of all the numbers is :',sum)"
   ]
  },
  {
   "cell_type": "code",
   "execution_count": 20,
   "id": "38d26bc2-320e-4a0b-aeda-0244044e88a2",
   "metadata": {},
   "outputs": [
    {
     "name": "stdin",
     "output_type": "stream",
     "text": [
      "\n",
      " Enter a number: 6\n"
     ]
    },
    {
     "name": "stdout",
     "output_type": "stream",
     "text": [
      "720\n"
     ]
    }
   ],
   "source": [
    "##Write a program that calculates the factorial of a given number using a while loop.\n",
    "\n",
    "fact=1\n",
    "i=1\n",
    "no=int(input('\\n Enter a number:'))\n",
    "while i<=no:\n",
    "    fact=fact*i\n",
    "    i+=1\n",
    "print(fact)\n",
    "        "
   ]
  },
  {
   "cell_type": "code",
   "execution_count": 21,
   "id": "c85a723b-53ac-41e7-a304-0283aaa40ef6",
   "metadata": {},
   "outputs": [
    {
     "name": "stdin",
     "output_type": "stream",
     "text": [
      "\n",
      " Enter a number : 4\n",
      "\n",
      " Do you want to input more ? (Y/N) y\n",
      "\n",
      " Enter a number : 6\n",
      "\n",
      " Do you want to input more ? (Y/N) y\n",
      "\n",
      " Enter a number : 4\n",
      "\n",
      " Do you want to input more ? (Y/N) y\n",
      "\n",
      " Enter a number : 2\n",
      "\n",
      " Do you want to input more ? (Y/N) y\n",
      "\n",
      " Enter a number : 9\n",
      "\n",
      " Do you want to input more ? (Y/N) Y\n",
      "\n",
      " Enter a number : 6\n",
      "\n",
      " Do you want to input more ? (Y/N) n\n"
     ]
    },
    {
     "name": "stdout",
     "output_type": "stream",
     "text": [
      "\n",
      " Odd Numbers list : [9]\n",
      "\n",
      " Even Numbers list : [4, 6, 4, 2, 6]\n"
     ]
    }
   ],
   "source": [
    "##Create a program that takes a list of numbers and uses a for loop to separate them into even and odd numbers. Print the lists of even and odd numbers separately\n",
    "\n",
    "##Creating variables to store the list\n",
    "main_list=[]\n",
    "odd_list=[]\n",
    "even_list=[]\n",
    "\n",
    "##User terminated loop for taking input into the main list\n",
    "res='Y'\n",
    "while res in ('Yy'):\n",
    "    inp=int(input('\\n Enter a number :'))\n",
    "    main_list.append(inp)\n",
    "    res=input('\\n Do you want to input more ? (Y/N)')\n",
    "    \n",
    "## chekcing if the numbers are odd or even and appending to sublists\n",
    "\n",
    "for i in main_list:\n",
    "    if i%2==0:\n",
    "        even_list.append(i)\n",
    "    else:\n",
    "        odd_list.append(i)\n",
    "\n",
    "print('\\n Odd Numbers list :',odd_list)\n",
    "print('\\n Even Numbers list :',even_list)\n",
    "\n",
    "    \n",
    "\n"
   ]
  },
  {
   "cell_type": "code",
   "execution_count": 1,
   "id": "55b8f15e-c317-46f6-9b59-2c29d7faa7a5",
   "metadata": {},
   "outputs": [],
   "source": [
    "dict={'Name':'Uls'}"
   ]
  },
  {
   "cell_type": "code",
   "execution_count": 3,
   "id": "d20188a1-9ffe-4f02-9c23-644649fc8aa4",
   "metadata": {},
   "outputs": [],
   "source": [
    "list=[]"
   ]
  },
  {
   "cell_type": "code",
   "execution_count": 4,
   "id": "37f4e55c-e1ff-4b26-a8ea-c06923ee50cd",
   "metadata": {},
   "outputs": [],
   "source": [
    "list.append(dict)"
   ]
  },
  {
   "cell_type": "code",
   "execution_count": 8,
   "id": "cd2ee5e1-be0b-4004-9732-b806e4e1df34",
   "metadata": {},
   "outputs": [
    {
     "data": {
      "text/plain": [
       "{'Name': 'Uls'}"
      ]
     },
     "execution_count": 8,
     "metadata": {},
     "output_type": "execute_result"
    }
   ],
   "source": [
    "dict."
   ]
  },
  {
   "cell_type": "code",
   "execution_count": 1,
   "id": "ab0a2ab3-24e3-471d-950f-352648951c20",
   "metadata": {},
   "outputs": [],
   "source": [
    "##Functions Task 1: Create a Function to Calculate the Average of a List\n"
   ]
  },
  {
   "cell_type": "code",
   "execution_count": 19,
   "id": "35c95c2a-c2e4-43a7-961d-d20984b80c94",
   "metadata": {},
   "outputs": [],
   "source": [
    "def avg_calc(a):\n",
    "    avg=sum(a)/len(a)\n",
    "    return avg"
   ]
  },
  {
   "cell_type": "code",
   "execution_count": 20,
   "id": "96e69241-6095-476d-b916-cd57be0b4b3d",
   "metadata": {},
   "outputs": [],
   "source": [
    "lis=[1,2,3,4,5]"
   ]
  },
  {
   "cell_type": "code",
   "execution_count": 21,
   "id": "26e955d0-138e-49be-bdbd-fd61ad671c4c",
   "metadata": {},
   "outputs": [
    {
     "data": {
      "text/plain": [
       "3.0"
      ]
     },
     "execution_count": 21,
     "metadata": {},
     "output_type": "execute_result"
    }
   ],
   "source": [
    "avg_calc(lis)"
   ]
  },
  {
   "cell_type": "code",
   "execution_count": 22,
   "id": "3cd9b268-4d91-4444-8471-7d367be21ab6",
   "metadata": {},
   "outputs": [],
   "source": [
    "##Create a Function to Count Occurrences of Elements in a List\n",
    "\n",
    "def Count_occ(a,b):\n",
    "    count=0\n",
    "    for i in a:\n",
    "        if i==b:\n",
    "            count+=1\n",
    "        else:\n",
    "            continue\n",
    "    return count\n"
   ]
  },
  {
   "cell_type": "code",
   "execution_count": 23,
   "id": "3478eb58-5fba-4048-ad40-8acc8843c214",
   "metadata": {},
   "outputs": [],
   "source": [
    "lis=[1,2,3,4,2]"
   ]
  },
  {
   "cell_type": "code",
   "execution_count": 26,
   "id": "35c6ea37-1c1a-4fd5-962e-413ff7afb773",
   "metadata": {},
   "outputs": [
    {
     "data": {
      "text/plain": [
       "0"
      ]
     },
     "execution_count": 26,
     "metadata": {},
     "output_type": "execute_result"
    }
   ],
   "source": [
    "Count_occ(lis,5)"
   ]
  },
  {
   "cell_type": "code",
   "execution_count": 30,
   "id": "3c36ed47-a8f8-42e2-8bfb-b2b83d86e8f2",
   "metadata": {},
   "outputs": [],
   "source": [
    "## Create a Function to Filter Even Numbers\n",
    "\n",
    "def filer_even(a):\n",
    "    even=[]\n",
    "    for i in a:\n",
    "        if i%2==0:\n",
    "            even.append(i)\n",
    "        else:\n",
    "            continue\n",
    "    return even\n",
    "        "
   ]
  },
  {
   "cell_type": "code",
   "execution_count": 28,
   "id": "3c6d8edb-ee69-4ed2-bcdf-aa2ccf2e9bbb",
   "metadata": {},
   "outputs": [],
   "source": [
    "list=[2,4,4,5,6,2,1]"
   ]
  },
  {
   "cell_type": "code",
   "execution_count": 31,
   "id": "5e8c7fc7-de53-4956-99f8-428577399dad",
   "metadata": {},
   "outputs": [
    {
     "data": {
      "text/plain": [
       "[2, 4, 4, 6, 2]"
      ]
     },
     "execution_count": 31,
     "metadata": {},
     "output_type": "execute_result"
    }
   ],
   "source": [
    "filer_even(list)"
   ]
  },
  {
   "cell_type": "code",
   "execution_count": 37,
   "id": "7189d42b-5d98-4c37-a94f-64e8a907dd01",
   "metadata": {},
   "outputs": [],
   "source": [
    "## Create a Function to Find the Maximum Value in a Tuple\n",
    "\n",
    "def max_tup(a):\n",
    "    max_tup=max(a)\n",
    "    return max_tup\n",
    "    "
   ]
  },
  {
   "cell_type": "code",
   "execution_count": 35,
   "id": "fa2554c9-2166-4006-8dc5-43f493998287",
   "metadata": {},
   "outputs": [],
   "source": [
    "tup=(1,2,7,6,9)"
   ]
  },
  {
   "cell_type": "code",
   "execution_count": 38,
   "id": "fef2269f-70f0-46fb-bb9c-89833c114e1e",
   "metadata": {},
   "outputs": [
    {
     "data": {
      "text/plain": [
       "9"
      ]
     },
     "execution_count": 38,
     "metadata": {},
     "output_type": "execute_result"
    }
   ],
   "source": [
    "max_tup(tup)"
   ]
  },
  {
   "cell_type": "code",
   "execution_count": 42,
   "id": "545a3834-c833-425b-a912-29a9db2b1a93",
   "metadata": {},
   "outputs": [],
   "source": [
    "##Create a Function to Flatten a List of Lists\n",
    "def flatten_list(a):\n",
    "    new_list=[]\n",
    "    for i in a:\n",
    "        for x in i:  \n",
    "            new_list.append(x)\n",
    "    return new_list"
   ]
  },
  {
   "cell_type": "code",
   "execution_count": 5,
   "id": "1ab37207-bd09-45c1-88a0-b253031e8e9b",
   "metadata": {},
   "outputs": [],
   "source": [
    "list1=[[1,2,3],[2,3,4]]"
   ]
  },
  {
   "cell_type": "code",
   "execution_count": 44,
   "id": "629f9b62-9f42-4010-b7c8-676cb51b2254",
   "metadata": {},
   "outputs": [
    {
     "data": {
      "text/plain": [
       "[1, 2, 3, 2, 3, 4]"
      ]
     },
     "execution_count": 44,
     "metadata": {},
     "output_type": "execute_result"
    }
   ],
   "source": [
    "flatten_list(list)"
   ]
  },
  {
   "cell_type": "code",
   "execution_count": 25,
   "id": "18aaa66e-e703-481e-a2ee-6d20e347f350",
   "metadata": {},
   "outputs": [],
   "source": [
    "file=open('test.txt','w')"
   ]
  },
  {
   "cell_type": "code",
   "execution_count": 26,
   "id": "2428fdec-7e2a-4a4b-ba95-efbdda91fa04",
   "metadata": {},
   "outputs": [
    {
     "data": {
      "text/plain": [
       "5"
      ]
     },
     "execution_count": 26,
     "metadata": {},
     "output_type": "execute_result"
    }
   ],
   "source": [
    "file.write('list1')"
   ]
  },
  {
   "cell_type": "code",
   "execution_count": 27,
   "id": "cf4bb91f-0bd0-4981-b583-8f504ab3bc1e",
   "metadata": {},
   "outputs": [],
   "source": [
    "file.close()"
   ]
  },
  {
   "cell_type": "code",
   "execution_count": 14,
   "id": "0884a7a2-d533-4324-85f3-c42ae7069bc9",
   "metadata": {},
   "outputs": [
    {
     "data": {
      "text/plain": [
       "<_io.TextIOWrapper name='test.txt' mode='r' encoding='UTF-8'>"
      ]
     },
     "execution_count": 14,
     "metadata": {},
     "output_type": "execute_result"
    }
   ],
   "source": [
    "file"
   ]
  },
  {
   "cell_type": "code",
   "execution_count": 28,
   "id": "95ec23df-9179-4c8d-9b87-63ff354de229",
   "metadata": {},
   "outputs": [],
   "source": [
    "f= open('test.txt','r+')"
   ]
  },
  {
   "cell_type": "code",
   "execution_count": 29,
   "id": "81e95854-c74e-4f98-a43a-bd153700ae5b",
   "metadata": {},
   "outputs": [
    {
     "data": {
      "text/plain": [
       "'list1'"
      ]
     },
     "execution_count": 29,
     "metadata": {},
     "output_type": "execute_result"
    }
   ],
   "source": [
    "f.read()"
   ]
  },
  {
   "cell_type": "code",
   "execution_count": 30,
   "id": "ef39603f-cc1a-4436-8df3-4ca6802b32f6",
   "metadata": {},
   "outputs": [
    {
     "data": {
      "text/plain": [
       "8"
      ]
     },
     "execution_count": 30,
     "metadata": {},
     "output_type": "execute_result"
    }
   ],
   "source": [
    "f.write('\\n test 2')"
   ]
  },
  {
   "cell_type": "code",
   "execution_count": 34,
   "id": "25dd9bdc-fc8e-4732-9bbe-870e15292236",
   "metadata": {},
   "outputs": [],
   "source": [
    "f.close()"
   ]
  },
  {
   "cell_type": "code",
   "execution_count": 43,
   "id": "0222e821-536b-49f3-bba1-63e6944c530d",
   "metadata": {},
   "outputs": [],
   "source": [
    "f=open('test.txt','r+')"
   ]
  },
  {
   "cell_type": "code",
   "execution_count": 45,
   "id": "98ea19d2-206f-48e9-a4c2-2618091ab823",
   "metadata": {},
   "outputs": [
    {
     "data": {
      "text/plain": [
       "' test 2'"
      ]
     },
     "execution_count": 45,
     "metadata": {},
     "output_type": "execute_result"
    }
   ],
   "source": [
    "f.read()"
   ]
  },
  {
   "cell_type": "code",
   "execution_count": 46,
   "id": "ecc65959-1cfa-4f83-9a70-42cb330b256b",
   "metadata": {},
   "outputs": [],
   "source": [
    "f.close()"
   ]
  },
  {
   "cell_type": "code",
   "execution_count": 47,
   "id": "87d4068b-af38-48ab-8ae3-0e3e1f9ef2ca",
   "metadata": {},
   "outputs": [],
   "source": [
    "f=open('test.txt','a')"
   ]
  },
  {
   "cell_type": "code",
   "execution_count": 48,
   "id": "a276c3f8-0eb9-4e7e-a59d-13110f5d83ca",
   "metadata": {},
   "outputs": [
    {
     "data": {
      "text/plain": [
       "22"
      ]
     },
     "execution_count": 48,
     "metadata": {},
     "output_type": "execute_result"
    }
   ],
   "source": [
    "f.write(repr(list1))"
   ]
  },
  {
   "cell_type": "code",
   "execution_count": 49,
   "id": "6cb91bdc-65ea-45b8-93d8-34f111865eae",
   "metadata": {},
   "outputs": [],
   "source": [
    "f.close()"
   ]
  },
  {
   "cell_type": "code",
   "execution_count": 50,
   "id": "a519ed13-61c4-43ce-b2a6-342dc736f24b",
   "metadata": {},
   "outputs": [],
   "source": [
    "f=open('test.txt','r')"
   ]
  },
  {
   "cell_type": "code",
   "execution_count": 51,
   "id": "c89993f6-33fd-4916-a668-ce0559b18314",
   "metadata": {},
   "outputs": [
    {
     "data": {
      "text/plain": [
       "'list1\\n test 2[[1, 2, 3], [2, 3, 4]]'"
      ]
     },
     "execution_count": 51,
     "metadata": {},
     "output_type": "execute_result"
    }
   ],
   "source": [
    "f.read()"
   ]
  },
  {
   "cell_type": "code",
   "execution_count": 1,
   "id": "b9ba9f6e-cb47-4806-8f2a-eaf7b4be00cd",
   "metadata": {},
   "outputs": [],
   "source": [
    "import os as o"
   ]
  },
  {
   "cell_type": "code",
   "execution_count": 3,
   "id": "764e05eb-4f95-44f5-8708-8a436cb6d759",
   "metadata": {},
   "outputs": [],
   "source": [
    "o.remove('test.txt')"
   ]
  },
  {
   "cell_type": "code",
   "execution_count": null,
   "id": "361f88f6-4a24-4a15-9f1c-0dec4b30ba09",
   "metadata": {},
   "outputs": [],
   "source": []
  }
 ],
 "metadata": {
  "kernelspec": {
   "display_name": "Python 3 (ipykernel)",
   "language": "python",
   "name": "python3"
  },
  "language_info": {
   "codemirror_mode": {
    "name": "ipython",
    "version": 3
   },
   "file_extension": ".py",
   "mimetype": "text/x-python",
   "name": "python",
   "nbconvert_exporter": "python",
   "pygments_lexer": "ipython3",
   "version": "3.10.8"
  }
 },
 "nbformat": 4,
 "nbformat_minor": 5
}
