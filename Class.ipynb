{
 "cells": [
  {
   "cell_type": "code",
   "execution_count": 45,
   "id": "fceda8e8-a59f-44a5-9087-64e857601e14",
   "metadata": {},
   "outputs": [],
   "source": [
    "## Class named book that sotres bacis info about books\n",
    "class Book:\n",
    "    def __init__(self, title, author, isbn, available_copies):\n",
    "        self.title=title\n",
    "        self.author=author\n",
    "        self.isbn=isbn\n",
    "        self.available_copies=available_copies\n",
    "    def lend_book(self): ##method to led a book\n",
    "        self.available_copies=self.available_copies-1\n",
    "    def return_book(self): ##method to rerun a book\n",
    "        self.available_copies=self.available_copies+1"
   ]
  },
  {
   "cell_type": "code",
   "execution_count": 40,
   "id": "aef5157d-cf2a-4be8-8ec6-34e461eabb70",
   "metadata": {},
   "outputs": [],
   "source": [
    "class Member:\n",
    "    borrowed_books=[]\n",
    "    def __init__(self, name, member_id):\n",
    "        self.name=name\n",
    "        self.member_id=member_id\n",
    "    def orrow_book(self, book):\n",
    "        self.book=book\n",
    "        borrowed_books.append(self.book)\n",
    "    def return_book(self, book):\n",
    "        self.book=book\n",
    "        borrowed_books.remove(self.book)"
   ]
  },
  {
   "cell_type": "code",
   "execution_count": null,
   "id": "d49900b2-db6f-4b80-92a2-366af03a029d",
   "metadata": {},
   "outputs": [],
   "source": [
    "class Library:\n",
    "    books=[]\n",
    "    members=[]\n",
    "    def __init__(self):\n",
    "    def add_book(self, book):\n",
    "        self.book=book\n",
    "        books.append(self.book)\n",
    "    def register_member(self, member):\n",
    "        self.member=member\n",
    "        members.append(self.member)"
   ]
  },
  {
   "cell_type": "code",
   "execution_count": 46,
   "id": "f0f115d2-a6b8-4985-b49e-af4241a633b8",
   "metadata": {},
   "outputs": [],
   "source": [
    "book1=Book('Aratrika','Pallab',20045527,200)"
   ]
  },
  {
   "cell_type": "code",
   "execution_count": 47,
   "id": "a7baab97-7728-4737-8459-a8f31c32488a",
   "metadata": {},
   "outputs": [],
   "source": [
    "book1.lend_book()"
   ]
  },
  {
   "cell_type": "code",
   "execution_count": 49,
   "id": "4119dcc7-7a45-443e-9aa9-e9ea1e5488be",
   "metadata": {},
   "outputs": [
    {
     "data": {
      "text/plain": [
       "199"
      ]
     },
     "execution_count": 49,
     "metadata": {},
     "output_type": "execute_result"
    }
   ],
   "source": [
    "book1.available_copies"
   ]
  },
  {
   "cell_type": "code",
   "execution_count": null,
   "id": "1cb9839a-7d09-4171-a2d7-a5bd76eca483",
   "metadata": {},
   "outputs": [],
   "source": []
  }
 ],
 "metadata": {
  "kernelspec": {
   "display_name": "Python 3 (ipykernel)",
   "language": "python",
   "name": "python3"
  },
  "language_info": {
   "codemirror_mode": {
    "name": "ipython",
    "version": 3
   },
   "file_extension": ".py",
   "mimetype": "text/x-python",
   "name": "python",
   "nbconvert_exporter": "python",
   "pygments_lexer": "ipython3",
   "version": "3.10.8"
  }
 },
 "nbformat": 4,
 "nbformat_minor": 5
}
